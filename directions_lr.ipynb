{
 "cells": [
  {
   "cell_type": "code",
   "execution_count": null,
   "metadata": {},
   "outputs": [],
   "source": [
    "import numpy as np\n",
    "from sklearn.linear_model import LinearRegression\n",
    "from pathlib import Path\n",
    "import glob\n",
    "import pickle\n",
    "import torch\n",
    "from sklearn.manifold import TSNE\n",
    "import matplotlib.pyplot as plt\n",
    "import seaborn as sns\n",
    "import os\n",
    "import shutil\n",
    "from sklearn.model_selection import KFold\n"
   ]
  },
  {
   "cell_type": "code",
   "execution_count": null,
   "metadata": {},
   "outputs": [],
   "source": [
    "def chunks(xs, n):\n",
    "    n = max(1, n)\n",
    "    return np.array([xs[i:i+n] for i in range(0, len(xs), n)])\n",
    "    \n",
    "def get_key(fp):\n",
    "    filename = os.path.splitext(os.path.basename(fp))[0]\n",
    "    int_part = filename.split()[0]\n",
    "    return int(int_part)\n",
    "\n",
    "gestos_npz = sorted(Path('Directions/all_img_cropped').glob('*.npz'), key=get_key)\n",
    "\n",
    "# del latente de 18x512, me quedo solo con la primera fila porque son todos iguales!!\n",
    "npz = np.array([(torch.tensor(np.load(x)['w'])).squeeze()[0,:].numpy() for x in gestos_npz])\n",
    "emotion = chunks(npz,230) \n",
    "\n",
    "X_neutral = emotion[0]"
   ]
  },
  {
   "cell_type": "code",
   "execution_count": null,
   "metadata": {},
   "outputs": [],
   "source": [
    "len(emotion)"
   ]
  },
  {
   "cell_type": "code",
   "execution_count": null,
   "metadata": {},
   "outputs": [],
   "source": [
    "# working! basic directions\n",
    "for k in range(1,len(emotion)):\n",
    "    score = 0\n",
    "    path = f'models/m8/REG{k}/'\n",
    "    if os.path.exists(path):\n",
    "        shutil.rmtree(path)\n",
    "    os.makedirs(path) \n",
    "    \n",
    "    for j in range(512):\n",
    "        X = X_neutral[:,j].reshape(-1,1)\n",
    "        y = emotion[k][:,j]\n",
    "        reg = LinearRegression().fit(X, y)\n",
    "        score+= reg.score(X,y)\n",
    "        \n",
    "        filename = f'models/m8/REG{k}/LR_model{k}_{j}.sav'\n",
    "        pickle.dump(reg, open(filename, 'wb'))\n",
    "    print(k, 'score = ', score/512)"
   ]
  },
  {
   "cell_type": "code",
   "execution_count": null,
   "metadata": {},
   "outputs": [],
   "source": [
    "len(emotion)\n",
    "a = np.concatenate(emotion[[1,2]],axis=0)\n",
    "a.shape"
   ]
  },
  {
   "cell_type": "code",
   "execution_count": null,
   "metadata": {},
   "outputs": [],
   "source": [
    "# mixed directions\n",
    "\n",
    "kf = KFold(n_splits=20, random_state=None, shuffle=True)\n",
    "\n",
    "expresiones = [['02', '08', '09'], ['03', '10', '11', '12', '13'], ['04','14','15','16'], \n",
    "               ['05','17','18'], ['06'], ['07','19']]\n",
    "\n",
    "for k, e in enumerate([[1,7,8],[2,9,10],[3,14,9],[4,16,17],[5,11,14],[6,18,15]]):\n",
    "    y = np.concatenate(emotion[e],axis=0) #690x512'\n",
    "    for i, (train_index, test_index) in enumerate(kf.split(y)):\n",
    "        score = 0\n",
    "        path = f'models/m8/m8_{i}/REG{e[0]}/'\n",
    "        if os.path.exists(path): shutil.rmtree(path)\n",
    "        os.makedirs(path) \n",
    "        for j in range(512):\n",
    "            X_k = X_neutral[test_index%230][:,j].reshape(-1,1)\n",
    "            y_k = y[test_index][:,j]\n",
    "            reg = LinearRegression().fit(X_k, y_k)\n",
    "            score+= reg.score(X_k,y_k)\n",
    "            filename = f'models/m8/m8_{i}/REG{e[0]}/LR_model{k}_{j}.sav'\n",
    "            pickle.dump(reg, open(filename, 'wb'))\n",
    "        print(k, 'score = ', score/512)\n"
   ]
  },
  {
   "cell_type": "code",
   "execution_count": null,
   "metadata": {},
   "outputs": [],
   "source": []
  }
 ],
 "metadata": {
  "kernelspec": {
   "display_name": "Python 3",
   "language": "python",
   "name": "python3"
  },
  "language_info": {
   "codemirror_mode": {
    "name": "ipython",
    "version": 3
   },
   "file_extension": ".py",
   "mimetype": "text/x-python",
   "name": "python",
   "nbconvert_exporter": "python",
   "pygments_lexer": "ipython3",
   "version": "3.6.5"
  }
 },
 "nbformat": 4,
 "nbformat_minor": 4
}
